{
 "cells": [
  {
   "cell_type": "markdown",
   "id": "3d933e7d",
   "metadata": {},
   "source": [
    "## 1.Importing necessary libraries \n",
    " "
   ]
  },
  {
   "cell_type": "code",
   "execution_count": 419,
   "id": "49df276e",
   "metadata": {},
   "outputs": [],
   "source": [
    "import pandas as pd\n",
    "import matplotlib.pyplot as plt\n",
    "import warnings\n",
    "warnings.filterwarnings(\"ignore\")\n"
   ]
  },
  {
   "cell_type": "markdown",
   "id": "afc7a1bf",
   "metadata": {},
   "source": [
    "## 2.Reading data from a CSV file\n"
   ]
  },
  {
   "cell_type": "code",
   "execution_count": 578,
   "id": "ffa25d9e",
   "metadata": {},
   "outputs": [
    {
     "data": {
      "text/html": [
       "<div>\n",
       "<style scoped>\n",
       "    .dataframe tbody tr th:only-of-type {\n",
       "        vertical-align: middle;\n",
       "    }\n",
       "\n",
       "    .dataframe tbody tr th {\n",
       "        vertical-align: top;\n",
       "    }\n",
       "\n",
       "    .dataframe thead th {\n",
       "        text-align: right;\n",
       "    }\n",
       "</style>\n",
       "<table border=\"1\" class=\"dataframe\">\n",
       "  <thead>\n",
       "    <tr style=\"text-align: right;\">\n",
       "      <th></th>\n",
       "      <th>STATION</th>\n",
       "      <th>NAME</th>\n",
       "      <th>LATITUDE</th>\n",
       "      <th>LONGITUDE</th>\n",
       "      <th>ELEVATION</th>\n",
       "      <th>DATE</th>\n",
       "      <th>TAVG</th>\n",
       "      <th>TMAX</th>\n",
       "      <th>TMIN</th>\n",
       "    </tr>\n",
       "  </thead>\n",
       "  <tbody>\n",
       "    <tr>\n",
       "      <th>0</th>\n",
       "      <td>ZI000067975</td>\n",
       "      <td>MASVINGO, ZI</td>\n",
       "      <td>-20.067</td>\n",
       "      <td>30.867</td>\n",
       "      <td>1095.0</td>\n",
       "      <td>1974-01</td>\n",
       "      <td>73.0</td>\n",
       "      <td>82.5</td>\n",
       "      <td>63.5</td>\n",
       "    </tr>\n",
       "    <tr>\n",
       "      <th>1</th>\n",
       "      <td>ZI000067975</td>\n",
       "      <td>MASVINGO, ZI</td>\n",
       "      <td>-20.067</td>\n",
       "      <td>30.867</td>\n",
       "      <td>1095.0</td>\n",
       "      <td>1974-02</td>\n",
       "      <td>71.2</td>\n",
       "      <td>78.9</td>\n",
       "      <td>63.5</td>\n",
       "    </tr>\n",
       "    <tr>\n",
       "      <th>2</th>\n",
       "      <td>ZI000067975</td>\n",
       "      <td>MASVINGO, ZI</td>\n",
       "      <td>-20.067</td>\n",
       "      <td>30.867</td>\n",
       "      <td>1095.0</td>\n",
       "      <td>1974-03</td>\n",
       "      <td>69.5</td>\n",
       "      <td>78.0</td>\n",
       "      <td>60.9</td>\n",
       "    </tr>\n",
       "    <tr>\n",
       "      <th>3</th>\n",
       "      <td>ZI000067975</td>\n",
       "      <td>MASVINGO, ZI</td>\n",
       "      <td>-20.067</td>\n",
       "      <td>30.867</td>\n",
       "      <td>1095.0</td>\n",
       "      <td>1974-04</td>\n",
       "      <td>62.8</td>\n",
       "      <td>72.4</td>\n",
       "      <td>53.3</td>\n",
       "    </tr>\n",
       "    <tr>\n",
       "      <th>4</th>\n",
       "      <td>ZI000067975</td>\n",
       "      <td>MASVINGO, ZI</td>\n",
       "      <td>-20.067</td>\n",
       "      <td>30.867</td>\n",
       "      <td>1095.0</td>\n",
       "      <td>1974-05</td>\n",
       "      <td>59.6</td>\n",
       "      <td>72.6</td>\n",
       "      <td>46.7</td>\n",
       "    </tr>\n",
       "    <tr>\n",
       "      <th>...</th>\n",
       "      <td>...</td>\n",
       "      <td>...</td>\n",
       "      <td>...</td>\n",
       "      <td>...</td>\n",
       "      <td>...</td>\n",
       "      <td>...</td>\n",
       "      <td>...</td>\n",
       "      <td>...</td>\n",
       "      <td>...</td>\n",
       "    </tr>\n",
       "    <tr>\n",
       "      <th>687</th>\n",
       "      <td>ZI000067775</td>\n",
       "      <td>HARARE KUTSAGA, ZI</td>\n",
       "      <td>-17.917</td>\n",
       "      <td>31.133</td>\n",
       "      <td>1480.0</td>\n",
       "      <td>2016-02</td>\n",
       "      <td>NaN</td>\n",
       "      <td>NaN</td>\n",
       "      <td>61.8</td>\n",
       "    </tr>\n",
       "    <tr>\n",
       "      <th>688</th>\n",
       "      <td>ZI000067775</td>\n",
       "      <td>HARARE KUTSAGA, ZI</td>\n",
       "      <td>-17.917</td>\n",
       "      <td>31.133</td>\n",
       "      <td>1480.0</td>\n",
       "      <td>2016-03</td>\n",
       "      <td>NaN</td>\n",
       "      <td>82.2</td>\n",
       "      <td>NaN</td>\n",
       "    </tr>\n",
       "    <tr>\n",
       "      <th>689</th>\n",
       "      <td>ZI000067775</td>\n",
       "      <td>HARARE KUTSAGA, ZI</td>\n",
       "      <td>-17.917</td>\n",
       "      <td>31.133</td>\n",
       "      <td>1480.0</td>\n",
       "      <td>2017-05</td>\n",
       "      <td>NaN</td>\n",
       "      <td>75.2</td>\n",
       "      <td>NaN</td>\n",
       "    </tr>\n",
       "    <tr>\n",
       "      <th>690</th>\n",
       "      <td>ZI000067775</td>\n",
       "      <td>HARARE KUTSAGA, ZI</td>\n",
       "      <td>-17.917</td>\n",
       "      <td>31.133</td>\n",
       "      <td>1480.0</td>\n",
       "      <td>2017-08</td>\n",
       "      <td>NaN</td>\n",
       "      <td>NaN</td>\n",
       "      <td>45.8</td>\n",
       "    </tr>\n",
       "    <tr>\n",
       "      <th>691</th>\n",
       "      <td>ZI000067775</td>\n",
       "      <td>HARARE KUTSAGA, ZI</td>\n",
       "      <td>-17.917</td>\n",
       "      <td>31.133</td>\n",
       "      <td>1480.0</td>\n",
       "      <td>2017-10</td>\n",
       "      <td>NaN</td>\n",
       "      <td>86.6</td>\n",
       "      <td>NaN</td>\n",
       "    </tr>\n",
       "  </tbody>\n",
       "</table>\n",
       "<p>692 rows × 9 columns</p>\n",
       "</div>"
      ],
      "text/plain": [
       "         STATION                NAME  LATITUDE  LONGITUDE  ELEVATION     DATE  \\\n",
       "0    ZI000067975        MASVINGO, ZI   -20.067     30.867     1095.0  1974-01   \n",
       "1    ZI000067975        MASVINGO, ZI   -20.067     30.867     1095.0  1974-02   \n",
       "2    ZI000067975        MASVINGO, ZI   -20.067     30.867     1095.0  1974-03   \n",
       "3    ZI000067975        MASVINGO, ZI   -20.067     30.867     1095.0  1974-04   \n",
       "4    ZI000067975        MASVINGO, ZI   -20.067     30.867     1095.0  1974-05   \n",
       "..           ...                 ...       ...        ...        ...      ...   \n",
       "687  ZI000067775  HARARE KUTSAGA, ZI   -17.917     31.133     1480.0  2016-02   \n",
       "688  ZI000067775  HARARE KUTSAGA, ZI   -17.917     31.133     1480.0  2016-03   \n",
       "689  ZI000067775  HARARE KUTSAGA, ZI   -17.917     31.133     1480.0  2017-05   \n",
       "690  ZI000067775  HARARE KUTSAGA, ZI   -17.917     31.133     1480.0  2017-08   \n",
       "691  ZI000067775  HARARE KUTSAGA, ZI   -17.917     31.133     1480.0  2017-10   \n",
       "\n",
       "     TAVG  TMAX  TMIN  \n",
       "0    73.0  82.5  63.5  \n",
       "1    71.2  78.9  63.5  \n",
       "2    69.5  78.0  60.9  \n",
       "3    62.8  72.4  53.3  \n",
       "4    59.6  72.6  46.7  \n",
       "..    ...   ...   ...  \n",
       "687   NaN   NaN  61.8  \n",
       "688   NaN  82.2   NaN  \n",
       "689   NaN  75.2   NaN  \n",
       "690   NaN   NaN  45.8  \n",
       "691   NaN  86.6   NaN  \n",
       "\n",
       "[692 rows x 9 columns]"
      ]
     },
     "execution_count": 578,
     "metadata": {},
     "output_type": "execute_result"
    }
   ],
   "source": [
    "file_path = 'Data/Swaziland.csv'\n",
    "df = pd.read_csv(file_path)\n",
    "df"
   ]
  },
  {
   "cell_type": "markdown",
   "id": "8605da6b",
   "metadata": {},
   "source": [
    "## For start date, end date, to help with number of rows to look for in functions"
   ]
  },
  {
   "cell_type": "code",
   "execution_count": 595,
   "id": "357f6dc2",
   "metadata": {},
   "outputs": [
    {
     "name": "stdout",
     "output_type": "stream",
     "text": [
      "Minimum date: 1974-01-01 00:00:00\n",
      "Maximum date: 2024-01-01 00:00:00\n",
      "Difference in months: 601\n"
     ]
    }
   ],
   "source": [
    "df['DATE'] = pd.to_datetime(df['DATE'])\n",
    "min_date = df['DATE'].min()\n",
    "max_date = df['DATE'].max()\n",
    "diff_months = (max_date.year - min_date.year) * 12 + max_date.month - min_date.month\n",
    "\n",
    "print(\"Minimum date:\", min_date)\n",
    "print(\"Maximum date:\", max_date)\n",
    "print(\"Difference in months:\", diff_months+1)"
   ]
  },
  {
   "cell_type": "markdown",
   "id": "becbc199",
   "metadata": {},
   "source": [
    "#\n",
    "## 3.Function to identify missing rows for each city in the dataset\n",
    "- ### Function 'multiple_cities' identifies missing rows for each city in the dataset.\n",
    "- ### Missing rows are determined where 'TAVG' (average temperature) is NaN.\n",
    "- ### Results are printed showing the number of missing rows for each city.\n",
    "\n",
    "### Note: Run this to know the number of missing dates from 1974 to 2023 end. Change dates based on above output\n",
    "#"
   ]
  },
  {
   "cell_type": "code",
   "execution_count": 596,
   "id": "98ddd01c",
   "metadata": {},
   "outputs": [
    {
     "ename": "KeyError",
     "evalue": "'TMAX'",
     "output_type": "error",
     "traceback": [
      "\u001b[0;31m---------------------------------------------------------------------------\u001b[0m",
      "\u001b[0;31mKeyError\u001b[0m                                  Traceback (most recent call last)",
      "File \u001b[0;32m~/anaconda3/lib/python3.11/site-packages/pandas/core/indexes/base.py:3802\u001b[0m, in \u001b[0;36mIndex.get_loc\u001b[0;34m(self, key, method, tolerance)\u001b[0m\n\u001b[1;32m   3801\u001b[0m \u001b[38;5;28;01mtry\u001b[39;00m:\n\u001b[0;32m-> 3802\u001b[0m     \u001b[38;5;28;01mreturn\u001b[39;00m \u001b[38;5;28mself\u001b[39m\u001b[38;5;241m.\u001b[39m_engine\u001b[38;5;241m.\u001b[39mget_loc(casted_key)\n\u001b[1;32m   3803\u001b[0m \u001b[38;5;28;01mexcept\u001b[39;00m \u001b[38;5;167;01mKeyError\u001b[39;00m \u001b[38;5;28;01mas\u001b[39;00m err:\n",
      "File \u001b[0;32m~/anaconda3/lib/python3.11/site-packages/pandas/_libs/index.pyx:138\u001b[0m, in \u001b[0;36mpandas._libs.index.IndexEngine.get_loc\u001b[0;34m()\u001b[0m\n",
      "File \u001b[0;32m~/anaconda3/lib/python3.11/site-packages/pandas/_libs/index.pyx:165\u001b[0m, in \u001b[0;36mpandas._libs.index.IndexEngine.get_loc\u001b[0;34m()\u001b[0m\n",
      "File \u001b[0;32mpandas/_libs/hashtable_class_helper.pxi:5745\u001b[0m, in \u001b[0;36mpandas._libs.hashtable.PyObjectHashTable.get_item\u001b[0;34m()\u001b[0m\n",
      "File \u001b[0;32mpandas/_libs/hashtable_class_helper.pxi:5753\u001b[0m, in \u001b[0;36mpandas._libs.hashtable.PyObjectHashTable.get_item\u001b[0;34m()\u001b[0m\n",
      "\u001b[0;31mKeyError\u001b[0m: 'TMAX'",
      "\nThe above exception was the direct cause of the following exception:\n",
      "\u001b[0;31mKeyError\u001b[0m                                  Traceback (most recent call last)",
      "Cell \u001b[0;32mIn[596], line 28\u001b[0m\n\u001b[1;32m     25\u001b[0m     \u001b[38;5;28;01melse\u001b[39;00m:\n\u001b[1;32m     26\u001b[0m         \u001b[38;5;28;01mreturn\u001b[39;00m df\n\u001b[0;32m---> 28\u001b[0m df \u001b[38;5;241m=\u001b[39m multiple_cities(df)\n",
      "Cell \u001b[0;32mIn[596], line 10\u001b[0m, in \u001b[0;36mmultiple_cities\u001b[0;34m(df)\u001b[0m\n\u001b[1;32m      8\u001b[0m merged_df \u001b[38;5;241m=\u001b[39m pd\u001b[38;5;241m.\u001b[39mmerge(all_dates, city_data, on\u001b[38;5;241m=\u001b[39m\u001b[38;5;124m'\u001b[39m\u001b[38;5;124mDATE\u001b[39m\u001b[38;5;124m'\u001b[39m, how\u001b[38;5;241m=\u001b[39m\u001b[38;5;124m'\u001b[39m\u001b[38;5;124mleft\u001b[39m\u001b[38;5;124m'\u001b[39m)\n\u001b[1;32m      9\u001b[0m missing_rows_avg \u001b[38;5;241m=\u001b[39m merged_df[merged_df[\u001b[38;5;124m'\u001b[39m\u001b[38;5;124mTAVG\u001b[39m\u001b[38;5;124m'\u001b[39m]\u001b[38;5;241m.\u001b[39misna()]\n\u001b[0;32m---> 10\u001b[0m missing_rows_max \u001b[38;5;241m=\u001b[39m merged_df[merged_df[\u001b[38;5;124m'\u001b[39m\u001b[38;5;124mTMAX\u001b[39m\u001b[38;5;124m'\u001b[39m]\u001b[38;5;241m.\u001b[39misna()]\n\u001b[1;32m     11\u001b[0m missing_rows_min \u001b[38;5;241m=\u001b[39m merged_df[merged_df[\u001b[38;5;124m'\u001b[39m\u001b[38;5;124mTMIN\u001b[39m\u001b[38;5;124m'\u001b[39m]\u001b[38;5;241m.\u001b[39misna()]\n\u001b[1;32m     12\u001b[0m missing_rows_per_city[city] \u001b[38;5;241m=\u001b[39m [\u001b[38;5;28mlen\u001b[39m(missing_rows_avg),\u001b[38;5;28mlen\u001b[39m(missing_rows_max),\u001b[38;5;28mlen\u001b[39m(missing_rows_min)]\n",
      "File \u001b[0;32m~/anaconda3/lib/python3.11/site-packages/pandas/core/frame.py:3807\u001b[0m, in \u001b[0;36mDataFrame.__getitem__\u001b[0;34m(self, key)\u001b[0m\n\u001b[1;32m   3805\u001b[0m \u001b[38;5;28;01mif\u001b[39;00m \u001b[38;5;28mself\u001b[39m\u001b[38;5;241m.\u001b[39mcolumns\u001b[38;5;241m.\u001b[39mnlevels \u001b[38;5;241m>\u001b[39m \u001b[38;5;241m1\u001b[39m:\n\u001b[1;32m   3806\u001b[0m     \u001b[38;5;28;01mreturn\u001b[39;00m \u001b[38;5;28mself\u001b[39m\u001b[38;5;241m.\u001b[39m_getitem_multilevel(key)\n\u001b[0;32m-> 3807\u001b[0m indexer \u001b[38;5;241m=\u001b[39m \u001b[38;5;28mself\u001b[39m\u001b[38;5;241m.\u001b[39mcolumns\u001b[38;5;241m.\u001b[39mget_loc(key)\n\u001b[1;32m   3808\u001b[0m \u001b[38;5;28;01mif\u001b[39;00m is_integer(indexer):\n\u001b[1;32m   3809\u001b[0m     indexer \u001b[38;5;241m=\u001b[39m [indexer]\n",
      "File \u001b[0;32m~/anaconda3/lib/python3.11/site-packages/pandas/core/indexes/base.py:3804\u001b[0m, in \u001b[0;36mIndex.get_loc\u001b[0;34m(self, key, method, tolerance)\u001b[0m\n\u001b[1;32m   3802\u001b[0m     \u001b[38;5;28;01mreturn\u001b[39;00m \u001b[38;5;28mself\u001b[39m\u001b[38;5;241m.\u001b[39m_engine\u001b[38;5;241m.\u001b[39mget_loc(casted_key)\n\u001b[1;32m   3803\u001b[0m \u001b[38;5;28;01mexcept\u001b[39;00m \u001b[38;5;167;01mKeyError\u001b[39;00m \u001b[38;5;28;01mas\u001b[39;00m err:\n\u001b[0;32m-> 3804\u001b[0m     \u001b[38;5;28;01mraise\u001b[39;00m \u001b[38;5;167;01mKeyError\u001b[39;00m(key) \u001b[38;5;28;01mfrom\u001b[39;00m \u001b[38;5;21;01merr\u001b[39;00m\n\u001b[1;32m   3805\u001b[0m \u001b[38;5;28;01mexcept\u001b[39;00m \u001b[38;5;167;01mTypeError\u001b[39;00m:\n\u001b[1;32m   3806\u001b[0m     \u001b[38;5;66;03m# If we have a listlike key, _check_indexing_error will raise\u001b[39;00m\n\u001b[1;32m   3807\u001b[0m     \u001b[38;5;66;03m#  InvalidIndexError. Otherwise we fall through and re-raise\u001b[39;00m\n\u001b[1;32m   3808\u001b[0m     \u001b[38;5;66;03m#  the TypeError.\u001b[39;00m\n\u001b[1;32m   3809\u001b[0m     \u001b[38;5;28mself\u001b[39m\u001b[38;5;241m.\u001b[39m_check_indexing_error(key)\n",
      "\u001b[0;31mKeyError\u001b[0m: 'TMAX'"
     ]
    }
   ],
   "source": [
    "def multiple_cities(df):\n",
    "    if 'STATION' in df.columns:\n",
    "        date_range = pd.date_range(start=min_date, end=max_date, freq='MS')\n",
    "        all_dates = pd.DataFrame(date_range, columns=['DATE'])\n",
    "        grouped_df = df.groupby('STATION')\n",
    "        missing_rows_per_city = {}\n",
    "        for city, city_data in grouped_df: \n",
    "            merged_df = pd.merge(all_dates, city_data, on='DATE', how='left')\n",
    "            missing_rows_avg = merged_df[merged_df['TAVG'].isna()]\n",
    "            missing_rows_max = merged_df[merged_df['TMAX'].isna()]\n",
    "            missing_rows_min = merged_df[merged_df['TMIN'].isna()]\n",
    "            missing_rows_per_city[city] = [len(missing_rows_avg),len(missing_rows_max),len(missing_rows_min)]\n",
    "        for city, missing_rows in missing_rows_per_city.items():\n",
    "            print(\"Missing rows for\", city)\n",
    "            print(missing_rows)\n",
    "            print(\"\\n\")\n",
    "        filled_df = pd.DataFrame(columns=df.columns)\n",
    "        for city in df['STATION'].unique():\n",
    "            city_data = df[df['STATION'] == city]\n",
    "            merged_data = pd.merge(all_dates, city_data, on='DATE', how='left')\n",
    "            merged_data['STATION']=city\n",
    "            merged_data['NAME']=merged_data['NAME'].value_counts().keys()[0]\n",
    "            filled_df = filled_df.append(merged_data, ignore_index=True)\n",
    "        return filled_df\n",
    "    else:\n",
    "        return df\n",
    "    \n",
    "df = multiple_cities(df)"
   ]
  },
  {
   "cell_type": "code",
   "execution_count": 581,
   "id": "5047c456",
   "metadata": {
    "scrolled": true
   },
   "outputs": [
    {
     "name": "stdout",
     "output_type": "stream",
     "text": [
      "ZI000067975    526\n",
      "ZI000067775    526\n",
      "Name: STATION, dtype: int64\n"
     ]
    }
   ],
   "source": [
    "if 'STATION' in df.columns:\n",
    "    print(df['STATION'].value_counts())"
   ]
  },
  {
   "cell_type": "markdown",
   "id": "98474045",
   "metadata": {},
   "source": [
    "#\n",
    "## 4. Function 'remove_city_rows':\n",
    "- ### Function 'remove_city_rows' removes rows corresponding to specific cities from the DataFrame.\n",
    "- ### The cities to be removed are specified in the 'cities_list'.\n",
    "- ### The function returns the DataFrame with rows removed for the specified cities.\n",
    "- ### After removal, the count of unique city names in the DataFrame is displayed.\n",
    "\n",
    "## Note: Use this function to remove cities with more missing rows or less value counts from above 2 cells\n",
    "#"
   ]
  },
  {
   "cell_type": "code",
   "execution_count": 582,
   "id": "914da871",
   "metadata": {
    "scrolled": true
   },
   "outputs": [
    {
     "name": "stdout",
     "output_type": "stream",
     "text": [
      "MASVINGO, ZI          526\n",
      "HARARE KUTSAGA, ZI    526\n",
      "Name: NAME, dtype: int64\n"
     ]
    }
   ],
   "source": [
    "def remove_city_rows(df,cities_list):\n",
    "    if 'STATION' in df.columns:\n",
    "        for name in cities_list:\n",
    "            df = df[df['STATION'] != name]\n",
    "        return df\n",
    "    else:\n",
    "        return df\n",
    "cities_list = ['VQC00672560','USC00410012','USC00160007']\n",
    "df = remove_city_rows(df,cities_list)\n",
    "if 'STATION' in df.columns:\n",
    "    print(df['NAME'].value_counts())"
   ]
  },
  {
   "cell_type": "markdown",
   "id": "9e724e07",
   "metadata": {},
   "source": [
    "## Modifying Date range IF we discarded any cities or it remains same"
   ]
  },
  {
   "cell_type": "code",
   "execution_count": 583,
   "id": "d17fc980",
   "metadata": {},
   "outputs": [
    {
     "name": "stdout",
     "output_type": "stream",
     "text": [
      "Minimum date: 1974-01-01 00:00:00\n",
      "Maximum date: 2017-10-01 00:00:00\n",
      "Difference in months: 526\n"
     ]
    }
   ],
   "source": [
    "min_date = df['DATE'].min()\n",
    "max_date = df['DATE'].max()\n",
    "diff_months = (max_date.year - min_date.year) * 12 + max_date.month - min_date.month\n",
    "\n",
    "print(\"Minimum date:\", min_date)\n",
    "print(\"Maximum date:\", max_date)\n",
    "print(\"Difference in months:\", diff_months+1)"
   ]
  },
  {
   "cell_type": "markdown",
   "id": "425c71ca",
   "metadata": {},
   "source": [
    "#\n",
    "## 5.Function 'merging' performs the following steps:\n",
    "- ### Groups the DataFrame by 'DATE' and calculates mean temperature values.\n",
    "- ### Identifies missing rows where 'TAVG' is NaN.\n",
    "## Note: \n",
    "- ### Use this if we have more than 1 city and more missing values in each city\n",
    "- ### check the length of df must be 600\n",
    "#"
   ]
  },
  {
   "cell_type": "code",
   "execution_count": 584,
   "id": "ebbe750f",
   "metadata": {},
   "outputs": [
    {
     "name": "stdout",
     "output_type": "stream",
     "text": [
      "          DATE   TAVG   TMAX   TMIN\n",
      "0   1974-01-01  70.65  79.55  61.75\n",
      "1   1974-02-01  69.95  78.00  61.90\n",
      "2   1974-03-01  68.50  77.30  59.65\n",
      "3   1974-04-01  63.25  73.10  53.40\n",
      "4   1974-05-01  59.70  71.50  47.95\n",
      "..         ...    ...    ...    ...\n",
      "521 2017-06-01    NaN    NaN  43.70\n",
      "522 2017-07-01    NaN    NaN  43.00\n",
      "523 2017-08-01    NaN    NaN  45.80\n",
      "524 2017-09-01    NaN    NaN    NaN\n",
      "525 2017-10-01    NaN  86.60    NaN\n",
      "\n",
      "[526 rows x 4 columns]\n",
      "Length of df:  526\n",
      "Missing rows for\n",
      "[230, 190, 160]\n",
      "\n",
      "\n"
     ]
    }
   ],
   "source": [
    "def merging(df):\n",
    "    if 'STATION' in df.columns:\n",
    "        if len(df['NAME'].value_counts())>1:\n",
    "            df = df [['DATE','TAVG','TMAX','TMIN']]\n",
    "            df = df.groupby('DATE', as_index=False).mean().round(2)\n",
    "            print(df)\n",
    "            date_range = pd.date_range(start=min_date, end=max_date, freq='MS')\n",
    "            all_dates = pd.DataFrame(date_range, columns=['DATE'])\n",
    "            df = pd.merge(all_dates, df, on='DATE', how='left')\n",
    "            print(\"Length of df: \",len(df))\n",
    "            missing_rows_avg = df[df['TAVG'].isna()]\n",
    "            missing_rows_max = df[df['TMAX'].isna()]\n",
    "            missing_rows_min = df[df['TMIN'].isna()]\n",
    "            missing_rows = [len(missing_rows_avg),len(missing_rows_max),len(missing_rows_min)]\n",
    "\n",
    "\n",
    "            print(\"Missing rows for\")\n",
    "            print(missing_rows)\n",
    "            print(\"\\n\")\n",
    "        return df\n",
    "    else: \n",
    "        return df\n",
    "df = merging(df)"
   ]
  },
  {
   "cell_type": "markdown",
   "id": "949bb0be",
   "metadata": {},
   "source": [
    "## 6.Function 'columns_required' filters the DataFrame columns to the required columns:\n",
    "- 'STATION'\n",
    "- 'NAME' (if present)\n",
    "- 'DATE'\n",
    "- 'TAVG'\n",
    "- 'TMAX'\n",
    "- 'TMIN' \n",
    "### If 'NAME' or 'STATION' columns are not present in the DataFrame, they are removed before filtering.\n",
    "#\n"
   ]
  },
  {
   "cell_type": "code",
   "execution_count": 585,
   "id": "76609447",
   "metadata": {},
   "outputs": [
    {
     "data": {
      "text/html": [
       "<div>\n",
       "<style scoped>\n",
       "    .dataframe tbody tr th:only-of-type {\n",
       "        vertical-align: middle;\n",
       "    }\n",
       "\n",
       "    .dataframe tbody tr th {\n",
       "        vertical-align: top;\n",
       "    }\n",
       "\n",
       "    .dataframe thead th {\n",
       "        text-align: right;\n",
       "    }\n",
       "</style>\n",
       "<table border=\"1\" class=\"dataframe\">\n",
       "  <thead>\n",
       "    <tr style=\"text-align: right;\">\n",
       "      <th></th>\n",
       "      <th>DATE</th>\n",
       "      <th>TAVG</th>\n",
       "      <th>TMAX</th>\n",
       "      <th>TMIN</th>\n",
       "    </tr>\n",
       "  </thead>\n",
       "  <tbody>\n",
       "    <tr>\n",
       "      <th>0</th>\n",
       "      <td>1974-01-01</td>\n",
       "      <td>70.65</td>\n",
       "      <td>79.55</td>\n",
       "      <td>61.75</td>\n",
       "    </tr>\n",
       "    <tr>\n",
       "      <th>1</th>\n",
       "      <td>1974-02-01</td>\n",
       "      <td>69.95</td>\n",
       "      <td>78.00</td>\n",
       "      <td>61.90</td>\n",
       "    </tr>\n",
       "    <tr>\n",
       "      <th>2</th>\n",
       "      <td>1974-03-01</td>\n",
       "      <td>68.50</td>\n",
       "      <td>77.30</td>\n",
       "      <td>59.65</td>\n",
       "    </tr>\n",
       "    <tr>\n",
       "      <th>3</th>\n",
       "      <td>1974-04-01</td>\n",
       "      <td>63.25</td>\n",
       "      <td>73.10</td>\n",
       "      <td>53.40</td>\n",
       "    </tr>\n",
       "    <tr>\n",
       "      <th>4</th>\n",
       "      <td>1974-05-01</td>\n",
       "      <td>59.70</td>\n",
       "      <td>71.50</td>\n",
       "      <td>47.95</td>\n",
       "    </tr>\n",
       "    <tr>\n",
       "      <th>...</th>\n",
       "      <td>...</td>\n",
       "      <td>...</td>\n",
       "      <td>...</td>\n",
       "      <td>...</td>\n",
       "    </tr>\n",
       "    <tr>\n",
       "      <th>521</th>\n",
       "      <td>2017-06-01</td>\n",
       "      <td>NaN</td>\n",
       "      <td>NaN</td>\n",
       "      <td>43.70</td>\n",
       "    </tr>\n",
       "    <tr>\n",
       "      <th>522</th>\n",
       "      <td>2017-07-01</td>\n",
       "      <td>NaN</td>\n",
       "      <td>NaN</td>\n",
       "      <td>43.00</td>\n",
       "    </tr>\n",
       "    <tr>\n",
       "      <th>523</th>\n",
       "      <td>2017-08-01</td>\n",
       "      <td>NaN</td>\n",
       "      <td>NaN</td>\n",
       "      <td>45.80</td>\n",
       "    </tr>\n",
       "    <tr>\n",
       "      <th>524</th>\n",
       "      <td>2017-09-01</td>\n",
       "      <td>NaN</td>\n",
       "      <td>NaN</td>\n",
       "      <td>NaN</td>\n",
       "    </tr>\n",
       "    <tr>\n",
       "      <th>525</th>\n",
       "      <td>2017-10-01</td>\n",
       "      <td>NaN</td>\n",
       "      <td>86.60</td>\n",
       "      <td>NaN</td>\n",
       "    </tr>\n",
       "  </tbody>\n",
       "</table>\n",
       "<p>526 rows × 4 columns</p>\n",
       "</div>"
      ],
      "text/plain": [
       "          DATE   TAVG   TMAX   TMIN\n",
       "0   1974-01-01  70.65  79.55  61.75\n",
       "1   1974-02-01  69.95  78.00  61.90\n",
       "2   1974-03-01  68.50  77.30  59.65\n",
       "3   1974-04-01  63.25  73.10  53.40\n",
       "4   1974-05-01  59.70  71.50  47.95\n",
       "..         ...    ...    ...    ...\n",
       "521 2017-06-01    NaN    NaN  43.70\n",
       "522 2017-07-01    NaN    NaN  43.00\n",
       "523 2017-08-01    NaN    NaN  45.80\n",
       "524 2017-09-01    NaN    NaN    NaN\n",
       "525 2017-10-01    NaN  86.60    NaN\n",
       "\n",
       "[526 rows x 4 columns]"
      ]
     },
     "execution_count": 585,
     "metadata": {},
     "output_type": "execute_result"
    }
   ],
   "source": [
    "def columns_required(df):\n",
    "    cols = ['STATION','NAME','DATE','TAVG','TMAX','TMIN']\n",
    "    if 'NAME' not in df.columns:\n",
    "        cols.remove('NAME')\n",
    "    if 'STATION' not in df.columns:\n",
    "        cols.remove('STATION')\n",
    "    df = df[cols]\n",
    "    df\n",
    "    return df\n",
    "    \n",
    "df = columns_required(df)\n",
    "df"
   ]
  },
  {
   "cell_type": "markdown",
   "id": "083663a1",
   "metadata": {},
   "source": [
    "###\n",
    "## 7.Function 'missing_values' performs the following steps:\n",
    "- ### Counts missing values for each column.\n",
    "- ### Finds column(s) with the least number of missing values.\n",
    "###"
   ]
  },
  {
   "cell_type": "code",
   "execution_count": 586,
   "id": "633d3e08",
   "metadata": {},
   "outputs": [
    {
     "name": "stdout",
     "output_type": "stream",
     "text": [
      "TAVG    230\n",
      "TMAX    190\n",
      "TMIN    160\n",
      "dtype: int64\n",
      "['TMIN']\n"
     ]
    }
   ],
   "source": [
    "def missing_values(df):\n",
    "    df = df[['TAVG','TMAX','TMIN']]\n",
    "    missing_values_dict = {}\n",
    "    missing_values_dict = df.isnull().sum()\n",
    "    print(missing_values_dict)\n",
    "    column_used = [key for key, value in missing_values_dict.items() if value == min(missing_values_dict.values)] \n",
    "    return column_used\n",
    "considered_col = missing_values(df)\n",
    "print(considered_col)"
   ]
  },
  {
   "cell_type": "markdown",
   "id": "45de0864",
   "metadata": {},
   "source": [
    "## 8.Function 'filling_missed_values' performs the following steps:\n",
    "- ### Identifies rows with missing 'TAVG' and present 'TMAX' or 'TMIN'.\n",
    "- ### Calculates temperature difference based on available temperature values.\n",
    "- ### Displays statistics of temperature difference.\n",
    "- ### Plots a histogram showing the distribution of temperature difference.\n",
    "\n",
    "## Note: \n",
    "- ### We get number of rows that can be filled using TMAX,TMIN values\n",
    "- ### How many rows are still needed to be filled\n",
    "- ### Difference Statistics, Histogram can be used to find Most Frequent value that is good for filling missing values."
   ]
  },
  {
   "cell_type": "code",
   "execution_count": 587,
   "id": "aaf747f5",
   "metadata": {},
   "outputs": [
    {
     "name": "stdout",
     "output_type": "stream",
     "text": [
      "\n",
      "We have data for : (99, 4)\n",
      "Missing data remaining is : 131 rows.\n",
      "\n",
      "\n",
      "             TAVG        TMAX        TMIN\n",
      "count  296.000000  336.000000  366.000000\n",
      "mean    66.454730   78.907589   54.242213\n",
      "std      5.952129    4.841652    7.495436\n",
      "min     54.650000   68.250000   37.500000\n",
      "25%     61.300000   75.487500   47.262500\n",
      "50%     68.050000   79.700000   55.725000\n",
      "75%     71.212500   82.450000   61.037500\n",
      "max     78.900000   90.600000   66.800000 \n",
      "\n",
      "Temperature Difference statistics:\n",
      " count    296.000000\n",
      "mean      12.309291\n",
      "std        2.288795\n",
      "min        6.950000\n",
      "25%       10.587500\n",
      "50%       12.175000\n",
      "75%       13.925000\n",
      "max       19.100000\n",
      "Name: diff, dtype: float64\n"
     ]
    },
    {
     "data": {
      "image/png": "[encoded data removed]",
      "text/plain": [
       "<Figure size 640x480 with 1 Axes>"
      ]
     },
     "metadata": {},
     "output_type": "display_data"
    }
   ],
   "source": [
    "def filling_missed_values(df):\n",
    "    mask = df['TAVG'].isnull() & (df['TMAX'].notnull() | df['TMIN'].notnull())\n",
    "    rows_with_missing_tavg = df[mask]\n",
    "#     print(\"Rows with missing 'tavg' and present 'tmax' or 'tmin':\\n\",rows_with_missing_tavg)\n",
    "    print(\"\\nWe have data for :\", rows_with_missing_tavg.shape)\n",
    "    print(\"Missing data remaining is :\", df['TAVG'].isnull().sum()-rows_with_missing_tavg.shape[0],\"rows.\\n\\n\")\n",
    "    print(df.describe(),\"\\n\")\n",
    "    if considered_col[0] == 'TMAX':\n",
    "        df['diff']=df['TMAX']-df['TAVG']\n",
    "    else:\n",
    "        df['diff']=df['TAVG']-df['TMIN']\n",
    "    print(\"Temperature Difference statistics:\\n\",df['diff'].describe())\n",
    "    plt.hist(df['diff'], bins=8, color='skyblue', edgecolor='black')\n",
    "    plt.xlabel('Temperature difference')\n",
    "    plt.ylabel('Frequency')\n",
    "    plt.title('Distribution of {}'.format('Temp Difference'))\n",
    "    plt.show()\n",
    "    return df\n",
    "df = filling_missed_values(df)"
   ]
  },
  {
   "cell_type": "markdown",
   "id": "17cefe2f",
   "metadata": {},
   "source": [
    "##  9.Function 'filling_value' fills missing values in the 'TAVG' column using linear interpolation based on 'TMAX' and 'TMIN':\n",
    "- ### If 'TAVG' is missing and 'TMAX' is available, it is filled by subtracting value from above  from 'TMAX'.\n",
    "- ### If 'TAVG' is missing and 'TMIN' is available, it is filled by adding value from above function to 'TMIN'.\n",
    "- ### Prints the count of missing values after filling.\n"
   ]
  },
  {
   "cell_type": "code",
   "execution_count": 588,
   "id": "3899a07f",
   "metadata": {},
   "outputs": [
    {
     "name": "stdout",
     "output_type": "stream",
     "text": [
      "DATE      0\n",
      "TAVG    131\n",
      "TMAX    190\n",
      "TMIN    160\n",
      "diff    230\n",
      "dtype: int64\n"
     ]
    }
   ],
   "source": [
    "def filling_value(df,i):\n",
    "    df['TAVG'] = df.apply(lambda row: row['TMAX'] - i if pd.isnull(row['TAVG']) and pd.notnull(row['TMAX']) else row['TAVG'], axis=1)\n",
    "    df['TAVG'] = df.apply(lambda row: row['TMIN'] + i if pd.isnull(row['TAVG']) and pd.notnull(row['TMIN']) else row['TAVG'], axis=1)\n",
    "    print(df.isnull().sum())\n",
    "    return df\n",
    "df = filling_value(df,14)"
   ]
  },
  {
   "cell_type": "markdown",
   "id": "209b438d",
   "metadata": {},
   "source": [
    "## 9.Function 'filling_values_from_month' fills missing 'TAVG' values with monthly averages:\n",
    "- ### Converts 'DATE' column to datetime format and extracts month.\n",
    "- ### Calculates monthly average 'TAVG'.\n",
    "- ### Fills missing 'TAVG' values with monthly averages.\n"
   ]
  },
  {
   "cell_type": "code",
   "execution_count": 589,
   "id": "bb4541cd",
   "metadata": {
    "scrolled": true
   },
   "outputs": [
    {
     "name": "stdout",
     "output_type": "stream",
     "text": [
      "MONTH\n",
      "1     72.76\n",
      "2     71.87\n",
      "3     70.46\n",
      "4     66.87\n",
      "5     62.02\n",
      "6     57.73\n",
      "7     57.11\n",
      "8     61.23\n",
      "9     67.66\n",
      "10    71.20\n",
      "11    73.01\n",
      "12    72.20\n",
      "Name: TAVG, dtype: float64\n",
      "0\n"
     ]
    },
    {
     "data": {
      "text/plain": [
       "(526, 2)"
      ]
     },
     "execution_count": 589,
     "metadata": {},
     "output_type": "execute_result"
    }
   ],
   "source": [
    "def filling_values_from_month(df):\n",
    "    df['DATE'] = pd.to_datetime(df['DATE'])\n",
    "    df['MONTH'] = df['DATE'].dt.month\n",
    "    mask = df['TAVG'].isnull()\n",
    "    rows_with_missing_tavg = df[mask]\n",
    "    monthly_avg_tavg = df.groupby('MONTH')['TAVG'].mean().round(2)\n",
    "    print(monthly_avg_tavg)\n",
    "    for month, avg_tavg in monthly_avg_tavg.items():\n",
    "        df.loc[df['MONTH'] == month, 'TAVG'] = df.loc[df['MONTH'] == month, 'TAVG'].fillna(avg_tavg)\n",
    "    print(df['TAVG'].isnull().sum())\n",
    "    if 'STATION' in df.columns and 'NAME' in df.columns:\n",
    "        df = df[['STATION','NAME','DATE','TAVG']]\n",
    "    else:\n",
    "        df = df[['DATE','TAVG']]\n",
    "    return df\n",
    "df = filling_values_from_month(df)\n",
    "df.shape"
   ]
  },
  {
   "cell_type": "code",
   "execution_count": 590,
   "id": "6edcef93",
   "metadata": {
    "scrolled": true
   },
   "outputs": [
    {
     "data": {
      "text/html": [
       "<div>\n",
       "<style scoped>\n",
       "    .dataframe tbody tr th:only-of-type {\n",
       "        vertical-align: middle;\n",
       "    }\n",
       "\n",
       "    .dataframe tbody tr th {\n",
       "        vertical-align: top;\n",
       "    }\n",
       "\n",
       "    .dataframe thead th {\n",
       "        text-align: right;\n",
       "    }\n",
       "</style>\n",
       "<table border=\"1\" class=\"dataframe\">\n",
       "  <thead>\n",
       "    <tr style=\"text-align: right;\">\n",
       "      <th></th>\n",
       "      <th>DATE</th>\n",
       "      <th>TAVG</th>\n",
       "    </tr>\n",
       "  </thead>\n",
       "  <tbody>\n",
       "    <tr>\n",
       "      <th>0</th>\n",
       "      <td>1974-01-01</td>\n",
       "      <td>70.65</td>\n",
       "    </tr>\n",
       "    <tr>\n",
       "      <th>1</th>\n",
       "      <td>1974-02-01</td>\n",
       "      <td>69.95</td>\n",
       "    </tr>\n",
       "    <tr>\n",
       "      <th>2</th>\n",
       "      <td>1974-03-01</td>\n",
       "      <td>68.50</td>\n",
       "    </tr>\n",
       "    <tr>\n",
       "      <th>3</th>\n",
       "      <td>1974-04-01</td>\n",
       "      <td>63.25</td>\n",
       "    </tr>\n",
       "    <tr>\n",
       "      <th>4</th>\n",
       "      <td>1974-05-01</td>\n",
       "      <td>59.70</td>\n",
       "    </tr>\n",
       "    <tr>\n",
       "      <th>...</th>\n",
       "      <td>...</td>\n",
       "      <td>...</td>\n",
       "    </tr>\n",
       "    <tr>\n",
       "      <th>521</th>\n",
       "      <td>2017-06-01</td>\n",
       "      <td>57.70</td>\n",
       "    </tr>\n",
       "    <tr>\n",
       "      <th>522</th>\n",
       "      <td>2017-07-01</td>\n",
       "      <td>57.00</td>\n",
       "    </tr>\n",
       "    <tr>\n",
       "      <th>523</th>\n",
       "      <td>2017-08-01</td>\n",
       "      <td>59.80</td>\n",
       "    </tr>\n",
       "    <tr>\n",
       "      <th>524</th>\n",
       "      <td>2017-09-01</td>\n",
       "      <td>67.66</td>\n",
       "    </tr>\n",
       "    <tr>\n",
       "      <th>525</th>\n",
       "      <td>2017-10-01</td>\n",
       "      <td>72.60</td>\n",
       "    </tr>\n",
       "  </tbody>\n",
       "</table>\n",
       "<p>526 rows × 2 columns</p>\n",
       "</div>"
      ],
      "text/plain": [
       "          DATE   TAVG\n",
       "0   1974-01-01  70.65\n",
       "1   1974-02-01  69.95\n",
       "2   1974-03-01  68.50\n",
       "3   1974-04-01  63.25\n",
       "4   1974-05-01  59.70\n",
       "..         ...    ...\n",
       "521 2017-06-01  57.70\n",
       "522 2017-07-01  57.00\n",
       "523 2017-08-01  59.80\n",
       "524 2017-09-01  67.66\n",
       "525 2017-10-01  72.60\n",
       "\n",
       "[526 rows x 2 columns]"
      ]
     },
     "execution_count": 590,
     "metadata": {},
     "output_type": "execute_result"
    }
   ],
   "source": [
    "df"
   ]
  },
  {
   "cell_type": "markdown",
   "id": "4c905935",
   "metadata": {},
   "source": [
    "## 10.Saving DataFrame to CSV file\n"
   ]
  },
  {
   "cell_type": "code",
   "execution_count": 591,
   "id": "a3adc008",
   "metadata": {},
   "outputs": [],
   "source": [
    "df.to_csv(\"new_data/Swaziland.csv\", index=False)"
   ]
  },
  {
   "cell_type": "code",
   "execution_count": null,
   "id": "c96a490c",
   "metadata": {},
   "outputs": [],
   "source": []
  }
 ],
 "metadata": {
  "kernelspec": {
   "display_name": "Python 3 (ipykernel)",
   "language": "python",
   "name": "python3"
  },
  "language_info": {
   "codemirror_mode": {
    "name": "ipython",
    "version": 3
   },
   "file_extension": ".py",
   "mimetype": "text/x-python",
   "name": "python",
   "nbconvert_exporter": "python",
   "pygments_lexer": "ipython3",
   "version": "3.11.4"
  }
 },
 "nbformat": 4,
 "nbformat_minor": 5
}
